{
 "cells": [
  {
   "cell_type": "markdown",
   "id": "474fd541",
   "metadata": {},
   "source": [
    "<div style=\"text-align: center;\">\n",
    "  <img src=\"C:\\Users\\adjeg\\Document_de_competence\\images\\ADJEGUEDE_PHOTO .jpg\" alt=\"Mon Profil\" style=\"width:150px; height:150px; border-radius:50%;\">\n",
    "</div>\n",
    "\n",
    "\n",
    "# Introduction\n",
    "\n",
    "Bienvenue sur mon portfolio. Ici, je présente mes projets liés à la data et à Power BI. \n",
    "Chaque section montre un projet avec ses analyses et visualisations.\n"
   ]
  }
 ],
 "metadata": {
  "language_info": {
   "name": "python"
  }
 },
 "nbformat": 4,
 "nbformat_minor": 5
}
